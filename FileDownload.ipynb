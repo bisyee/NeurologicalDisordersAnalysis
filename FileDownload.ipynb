{
 "cells": [
  {
   "cell_type": "code",
   "execution_count": null,
   "metadata": {},
   "outputs": [],
   "source": [
    "conda install -c conda-forge nilearn"
   ]
  },
  {
   "cell_type": "code",
   "execution_count": null,
   "metadata": {},
   "outputs": [],
   "source": [
    "import pandas as pd\n",
    "import os\n",
    "import urllib.request\n",
    "import pandas as pd"
   ]
  },
  {
   "cell_type": "code",
   "execution_count": 11,
   "metadata": {},
   "outputs": [],
   "source": [
    "import numpy as np\n",
    "\n",
    "# Read the CSV file\n",
    "data = pd.read_csv('Phenotypic_V1_0b_preprocessed1.csv')\n",
    "\n",
    "# Define the output directory for saving the NIfTI files\n",
    "output_dir = 'nifti_files'\n",
    "\n",
    "# Create the output directory if it doesn't exist\n",
    "os.makedirs(output_dir, exist_ok=True)\n",
    "\n",
    "# Initialize the numpy array\n",
    "num_samples = len(data)\n",
    "array = np.zeros((num_samples, 2), dtype=np.int32)\n"
   ]
  },
  {
   "cell_type": "code",
   "execution_count": null,
   "metadata": {},
   "outputs": [],
   "source": [
    "x = 0\n",
    "# Download and process each file\n",
    "for i, row in data.iterrows():\n",
    "    if x > 64 and x < 500:\n",
    "        file_id = row['FILE_ID']\n",
    "        dx_group = row['DX_GROUP']\n",
    "\n",
    "        if file_id != 'no_filename':\n",
    "            # Download the file\n",
    "            url = f'https://s3.amazonaws.com/fcp-indi/data/Projects/ABIDE_Initiative/Outputs/cpac/func_minimal/{file_id}_func_minimal.nii.gz'\n",
    "            file_path = os.path.join(output_dir, f'{file_id}.nii.gz')\n",
    "            urllib.request.urlretrieve(url, file_path)\n",
    "        print(file_id, \" added\")\n",
    "    x+=1\n",
    "# Print the numpy array\n",
    "print(array)"
   ]
  },
  {
   "cell_type": "code",
   "execution_count": null,
   "metadata": {},
   "outputs": [],
   "source": []
  }
 ],
 "metadata": {
  "kernelspec": {
   "display_name": "Python 3",
   "language": "python",
   "name": "python3"
  },
  "language_info": {
   "codemirror_mode": {
    "name": "ipython",
    "version": 3
   },
   "file_extension": ".py",
   "mimetype": "text/x-python",
   "name": "python",
   "nbconvert_exporter": "python",
   "pygments_lexer": "ipython3",
   "version": "3.7.4"
  }
 },
 "nbformat": 4,
 "nbformat_minor": 2
}
