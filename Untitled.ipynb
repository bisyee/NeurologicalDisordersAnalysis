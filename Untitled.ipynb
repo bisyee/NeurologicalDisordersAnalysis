{
 "cells": [
  {
   "cell_type": "code",
   "execution_count": 3,
   "metadata": {},
   "outputs": [
    {
     "name": "stdout",
     "output_type": "stream",
     "text": [
      "Collecting gem\n",
      "  Downloading https://files.pythonhosted.org/packages/63/64/0d63a68dd8e853d725526d01937538b9d25c9a16a0549df1a1ef2a3b30b6/gem-0.1.12.tar.gz\n",
      "Requirement already satisfied: six in c:\\users\\user\\anaconda3\\lib\\site-packages (from gem) (1.12.0)\n",
      "Building wheels for collected packages: gem\n",
      "  Building wheel for gem (setup.py): started\n",
      "  Building wheel for gem (setup.py): finished with status 'done'\n",
      "  Created wheel for gem: filename=gem-0.1.12-cp37-none-any.whl size=15450 sha256=b97df181d87c304cbab8e19bd9249a57a21815f48b1d8f6f99640ed29b4b0a1f\n",
      "  Stored in directory: C:\\Users\\User\\AppData\\Local\\pip\\Cache\\wheels\\9e\\56\\51\\995d6fe3792760b060c534d28a256df6e244c9543f7e3a2e58\n",
      "Successfully built gem\n",
      "Installing collected packages: gem\n",
      "Successfully installed gem-0.1.12\n",
      "Note: you may need to restart the kernel to use updated packages.\n"
     ]
    }
   ],
   "source": [
    "pip install gem"
   ]
  },
  {
   "cell_type": "code",
   "execution_count": 9,
   "metadata": {},
   "outputs": [
    {
     "name": "stdout",
     "output_type": "stream",
     "text": [
      "Error reading Olin_0050114.nii.gz: Compressed file ended before the end-of-stream marker was reached\n",
      "Error reading Olin_0050114.nii.gz: Compressed file ended before the end-of-stream marker was reached\n",
      "Error reading Olin_0050114.nii.gz: Compressed file ended before the end-of-stream marker was reached\n",
      "Error reading Olin_0050114.nii.gz: Compressed file ended before the end-of-stream marker was reached\n",
      "Error reading Olin_0050114.nii.gz: Compressed file ended before the end-of-stream marker was reached\n"
     ]
    }
   ],
   "source": [
    "import os\n",
    "import nibabel as nib\n",
    "import numpy as np\n",
    "\n",
    "# Step 1: Read the nii.gz files from the directory\n",
    "data_directory = \"nifti_files\"\n",
    "nii_files = [file for file in os.listdir(data_directory) if file.endswith(\".nii.gz\")]\n",
    "\n",
    "# Step 2: Construct the adjacency matrix\n",
    "# Depending on the similarity measure, you can calculate distances or similarities between samples and create the adjacency matrix.\n",
    "\n",
    "# Example: Calculate correlation matrix based on voxel intensities\n",
    "adjacency_matrix = np.zeros((len(nii_files), len(nii_files)))\n",
    "for i, file_i in enumerate(nii_files):\n",
    "    try:\n",
    "        data_i = nib.load(os.path.join(data_directory, file_i)).get_fdata().flatten()\n",
    "    except EOFError as e:\n",
    "        print(f\"Error reading {file_i}: {e}\")\n",
    "        continue\n",
    "\n",
    "    for j, file_j in enumerate(nii_files):\n",
    "        try:\n",
    "            data_j = nib.load(os.path.join(data_directory, file_j)).get_fdata().flatten()\n",
    "            correlation = np.corrcoef(data_i, data_j)[0, 1]\n",
    "            adjacency_matrix[i, j] = correlation\n",
    "        except EOFError as e:\n",
    "            print(f\"Error reading {file_j}: {e}\")\n",
    "            continue\n",
    "\n",
    "# Step 3: Compute high-order proximity (using matrix powers)\n",
    "k = 3  # desired power (higher-order proximity level)\n",
    "high_order_proximity = np.linalg.matrix_power(adjacency_matrix, k)\n",
    "\n",
    "# Step 4: Perform Singular Value Decomposition (SVD)\n",
    "embedding_dimension = 32  # desired embedding dimension\n",
    "U, _, _ = np.linalg.svd(high_order_proximity)\n",
    "\n",
    "# Step 5: Extract lower-dimensional embeddings\n",
    "embedding = U[:, :embedding_dimension]\n",
    "\n",
    "# Step 6: Visualize and analyze the embeddings\n",
    "# Now you have the lower-dimensional embeddings in the 'embedding' variable. You can visualize and analyze them as needed.\n"
   ]
  },
  {
   "cell_type": "code",
   "execution_count": null,
   "metadata": {},
   "outputs": [],
   "source": [
    "\n"
   ]
  },
  {
   "cell_type": "code",
   "execution_count": 10,
   "metadata": {},
   "outputs": [
    {
     "data": {
      "image/png": "[encoded data removed]",
      "text/plain": [
       "<Figure size 576x576 with 2 Axes>"
      ]
     },
     "metadata": {
      "needs_background": "light"
     },
     "output_type": "display_data"
    },
    {
     "data": {
      "image/png": "[encoded data removed]",
      "text/plain": [
       "<Figure size 576x576 with 2 Axes>"
      ]
     },
     "metadata": {
      "needs_background": "light"
     },
     "output_type": "display_data"
    }
   ],
   "source": [
    "import seaborn as sns\n",
    "\n",
    "# Plot the adjacency matrix heatmap\n",
    "plt.figure(figsize=(8, 8))\n",
    "sns.heatmap(adjacency_matrix, cmap=\"coolwarm\", annot=False, square=True)\n",
    "plt.title(\"Adjacency Matrix Heatmap\")\n",
    "plt.show()\n",
    "\n",
    "# Plot the high-order proximity matrix heatmap\n",
    "plt.figure(figsize=(8, 8))\n",
    "sns.heatmap(high_order_proximity, cmap=\"coolwarm\", annot=False, square=True)\n",
    "plt.title(f\"High-Order Proximity (k={k}) Heatmap\")\n",
    "plt.show()\n"
   ]
  },
  {
   "cell_type": "code",
   "execution_count": 13,
   "metadata": {},
   "outputs": [
    {
     "name": "stdout",
     "output_type": "stream",
     "text": [
      "ROC-AUC score: 1.0\n",
      "Mean Average Precision (MAP) score: 1.0\n"
     ]
    }
   ],
   "source": [
    "from sklearn.metrics import roc_auc_score, average_precision_score\n",
    "from sklearn.model_selection import train_test_split\n",
    "from sklearn.linear_model import LogisticRegression\n",
    "\n",
    "# Create a training and test split for link prediction\n",
    "# For simplicity, we'll use random non-edges as the negative examples\n",
    "non_edges = np.column_stack(np.where(adjacency_matrix == 0))\n",
    "non_edges_train, non_edges_test = train_test_split(non_edges, test_size=0.2, random_state=42)\n",
    "\n",
    "# Train a logistic regression model on the training set using embeddings\n",
    "X_train_pos = embedding[edges_train[:, 0]] + embedding[edges_train[:, 1]]\n",
    "X_train_neg = embedding[non_edges_train[:, 0]] + embedding[non_edges_train[:, 1]]\n",
    "X_train = np.vstack((X_train_pos, X_train_neg))\n",
    "y_train = np.hstack((np.ones(len(edges_train)), np.zeros(len(non_edges_train))))\n",
    "\n",
    "# Create a logistic regression classifier\n",
    "lr = LogisticRegression()\n",
    "lr.fit(X_train, y_train)\n",
    "\n",
    "# Predict the probabilities of link formation for the test set\n",
    "X_test_pos = embedding[edges_test[:, 0]] + embedding[edges_test[:, 1]]\n",
    "X_test_neg = embedding[non_edges_test[:, 0]] + embedding[non_edges_test[:, 1]]\n",
    "X_test = np.vstack((X_test_pos, X_test_neg))\n",
    "y_test = np.hstack((np.ones(len(edges_test)), np.zeros(len(non_edges_test))))\n",
    "y_pred_proba = lr.predict_proba(X_test)[:, 1]\n",
    "\n",
    "# Evaluate the link prediction performance using ROC-AUC and MAP\n",
    "roc_auc = roc_auc_score(y_test, y_pred_proba)\n",
    "map_score = average_precision_score(y_test, y_pred_proba)\n",
    "\n",
    "print(\"ROC-AUC score:\", roc_auc)\n",
    "print(\"Mean Average Precision (MAP) score:\", map_score)\n"
   ]
  },
  {
   "cell_type": "code",
   "execution_count": 22,
   "metadata": {},
   "outputs": [
    {
     "name": "stdout",
     "output_type": "stream",
     "text": [
      "Precision: 1.0\n",
      "Recall: 0.75\n",
      "F1-score: 0.8571428571428571\n"
     ]
    }
   ],
   "source": [
    "from sklearn.metrics import precision_score, recall_score, f1_score\n",
    "\n",
    "# Define the threshold to classify positive and negative examples\n",
    "threshold = 0.8\n",
    "\n",
    "# Convert predicted probabilities to binary predictions based on the threshold\n",
    "y_pred_binary = (y_pred_proba >= threshold).astype(int)\n",
    "\n",
    "# Calculate precision, recall, and F1-score\n",
    "precision = precision_score(y_test, y_pred_binary)\n",
    "recall = recall_score(y_test, y_pred_binary)\n",
    "f1 = f1_score(y_test, y_pred_binary)\n",
    "\n",
    "print(\"Precision:\", precision)\n",
    "print(\"Recall:\", recall)\n",
    "print(\"F1-score:\", f1)\n"
   ]
  },
  {
   "cell_type": "code",
   "execution_count": 23,
   "metadata": {},
   "outputs": [
    {
     "data": {
      "text/plain": [
       "array([1., 1., 1., 1., 0., 0.])"
      ]
     },
     "execution_count": 23,
     "metadata": {},
     "output_type": "execute_result"
    }
   ],
   "source": [
    "y_test"
   ]
  },
  {
   "cell_type": "code",
   "execution_count": 24,
   "metadata": {},
   "outputs": [
    {
     "data": {
      "text/plain": [
       "array([0, 1, 1, 1, 0, 0])"
      ]
     },
     "execution_count": 24,
     "metadata": {},
     "output_type": "execute_result"
    }
   ],
   "source": [
    "y_pred_binary"
   ]
  },
  {
   "cell_type": "code",
   "execution_count": 25,
   "metadata": {},
   "outputs": [
    {
     "data": {
      "text/plain": [
       "array([0.78798359, 0.81348529, 0.83655585, 0.860974  , 0.35030083,\n",
       "       0.31345088])"
      ]
     },
     "execution_count": 25,
     "metadata": {},
     "output_type": "execute_result"
    }
   ],
   "source": [
    "y_pred_proba"
   ]
  },
  {
   "cell_type": "code",
   "execution_count": null,
   "metadata": {},
   "outputs": [],
   "source": []
  }
 ],
 "metadata": {
  "kernelspec": {
   "display_name": "Python 3",
   "language": "python",
   "name": "python3"
  },
  "language_info": {
   "codemirror_mode": {
    "name": "ipython",
    "version": 3
   },
   "file_extension": ".py",
   "mimetype": "text/x-python",
   "name": "python",
   "nbconvert_exporter": "python",
   "pygments_lexer": "ipython3",
   "version": "3.7.4"
  }
 },
 "nbformat": 4,
 "nbformat_minor": 2
}
